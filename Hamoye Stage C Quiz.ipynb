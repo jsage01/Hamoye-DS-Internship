{
 "cells": [
  {
   "cell_type": "code",
   "execution_count": 1,
   "metadata": {
    "colab": {},
    "colab_type": "code",
    "executionInfo": {
     "elapsed": 1234,
     "status": "ok",
     "timestamp": 1598438393520,
     "user": {
      "displayName": "Uwakmfon Utuk",
      "photoUrl": "",
      "userId": "06629946359768655870"
     },
     "user_tz": -60
    },
    "id": "zQtNaOP7VY_U"
   },
   "outputs": [],
   "source": [
    "import numpy as np\n",
    "import pandas as pd\n",
    "import matplotlib.pyplot as plt"
   ]
  },
  {
   "cell_type": "code",
   "execution_count": 2,
   "metadata": {
    "colab": {},
    "colab_type": "code",
    "executionInfo": {
     "elapsed": 2034,
     "status": "ok",
     "timestamp": 1598438394326,
     "user": {
      "displayName": "Uwakmfon Utuk",
      "photoUrl": "",
      "userId": "06629946359768655870"
     },
     "user_tz": -60
    },
    "id": "jDUknWbKVY_Y"
   },
   "outputs": [],
   "source": [
    "# df = pd.read_excel(\"Data_for_UCI_named.xlsx\")\n",
    "df = pd.read_csv(\"https://archive.ics.uci.edu/ml/machine-learning-databases/00471/Data_for_UCI_named.csv\")"
   ]
  },
  {
   "cell_type": "code",
   "execution_count": 3,
   "metadata": {
    "colab": {
     "base_uri": "https://localhost:8080/",
     "height": 68
    },
    "colab_type": "code",
    "executionInfo": {
     "elapsed": 2026,
     "status": "ok",
     "timestamp": 1598438394327,
     "user": {
      "displayName": "Uwakmfon Utuk",
      "photoUrl": "",
      "userId": "06629946359768655870"
     },
     "user_tz": -60
    },
    "id": "T-njZfODVY_b",
    "outputId": "df32c7a0-a362-458a-8017-6b3b012d6dec"
   },
   "outputs": [
    {
     "data": {
      "text/plain": [
       "unstable    6380\n",
       "stable      3620\n",
       "Name: stabf, dtype: int64"
      ]
     },
     "execution_count": 3,
     "metadata": {},
     "output_type": "execute_result"
    }
   ],
   "source": [
    "df['stabf'].value_counts()"
   ]
  },
  {
   "cell_type": "code",
   "execution_count": 4,
   "metadata": {
    "colab": {
     "base_uri": "https://localhost:8080/",
     "height": 272
    },
    "colab_type": "code",
    "executionInfo": {
     "elapsed": 2019,
     "status": "ok",
     "timestamp": 1598438394328,
     "user": {
      "displayName": "Uwakmfon Utuk",
      "photoUrl": "",
      "userId": "06629946359768655870"
     },
     "user_tz": -60
    },
    "id": "8tcFJirEVY_f",
    "outputId": "40632cd7-8f84-420a-b5b4-f17ae2ef3e0b"
   },
   "outputs": [
    {
     "data": {
      "text/plain": [
       "tau1     0\n",
       "tau2     0\n",
       "tau3     0\n",
       "tau4     0\n",
       "p1       0\n",
       "p2       0\n",
       "p3       0\n",
       "p4       0\n",
       "g1       0\n",
       "g2       0\n",
       "g3       0\n",
       "g4       0\n",
       "stab     0\n",
       "stabf    0\n",
       "dtype: int64"
      ]
     },
     "execution_count": 4,
     "metadata": {},
     "output_type": "execute_result"
    }
   ],
   "source": [
    "df.isna().sum()"
   ]
  },
  {
   "cell_type": "code",
   "execution_count": 5,
   "metadata": {
    "colab": {},
    "colab_type": "code",
    "executionInfo": {
     "elapsed": 2016,
     "status": "ok",
     "timestamp": 1598438394328,
     "user": {
      "displayName": "Uwakmfon Utuk",
      "photoUrl": "",
      "userId": "06629946359768655870"
     },
     "user_tz": -60
    },
    "id": "ZzuuSGn1VY_h"
   },
   "outputs": [],
   "source": [
    "df.drop(columns = 'stab', inplace=True)\n",
    "x = df.drop(columns = 'stabf')\n",
    "y = df['stabf']"
   ]
  },
  {
   "cell_type": "code",
   "execution_count": 6,
   "metadata": {
    "colab": {},
    "colab_type": "code",
    "executionInfo": {
     "elapsed": 2371,
     "status": "ok",
     "timestamp": 1598438394686,
     "user": {
      "displayName": "Uwakmfon Utuk",
      "photoUrl": "",
      "userId": "06629946359768655870"
     },
     "user_tz": -60
    },
    "id": "9MEZxJ_DVY_k"
   },
   "outputs": [],
   "source": [
    "from sklearn.model_selection import train_test_split"
   ]
  },
  {
   "cell_type": "code",
   "execution_count": 7,
   "metadata": {
    "colab": {
     "base_uri": "https://localhost:8080/",
     "height": 68
    },
    "colab_type": "code",
    "executionInfo": {
     "elapsed": 2362,
     "status": "ok",
     "timestamp": 1598438394687,
     "user": {
      "displayName": "Uwakmfon Utuk",
      "photoUrl": "",
      "userId": "06629946359768655870"
     },
     "user_tz": -60
    },
    "id": "Xmp8t2ueVY_m",
    "outputId": "0ee82ac0-78be-4dd1-abb7-579f7af1a711"
   },
   "outputs": [
    {
     "data": {
      "text/plain": [
       "unstable    5092\n",
       "stable      2908\n",
       "Name: stabf, dtype: int64"
      ]
     },
     "execution_count": 7,
     "metadata": {},
     "output_type": "execute_result"
    }
   ],
   "source": [
    "x_train, x_test, y_train, y_test = train_test_split(x,y, \n",
    "                                                    train_size= 0.8,\n",
    "                                                   random_state=1)\n",
    "y_train.value_counts()"
   ]
  },
  {
   "cell_type": "code",
   "execution_count": 8,
   "metadata": {
    "colab": {},
    "colab_type": "code",
    "executionInfo": {
     "elapsed": 2359,
     "status": "ok",
     "timestamp": 1598438394687,
     "user": {
      "displayName": "Uwakmfon Utuk",
      "photoUrl": "",
      "userId": "06629946359768655870"
     },
     "user_tz": -60
    },
    "id": "cQNYDocFVY_s"
   },
   "outputs": [],
   "source": [
    "from sklearn.preprocessing import StandardScaler\n",
    "\n",
    "scaler = StandardScaler()\n",
    "\n",
    "ntrain_df = scaler.fit_transform(x_train)\n",
    "\n",
    "ntest_df = scaler.transform(x_test)"
   ]
  },
  {
   "cell_type": "code",
   "execution_count": 9,
   "metadata": {
    "colab": {},
    "colab_type": "code",
    "executionInfo": {
     "elapsed": 2358,
     "status": "ok",
     "timestamp": 1598438394688,
     "user": {
      "displayName": "Uwakmfon Utuk",
      "photoUrl": "",
      "userId": "06629946359768655870"
     },
     "user_tz": -60
    },
    "id": "mKwT7UizVY_5"
   },
   "outputs": [],
   "source": [
    "from sklearn.metrics import recall_score, precision_score, accuracy_score, classification_report, confusion_matrix"
   ]
  },
  {
   "cell_type": "code",
   "execution_count": 10,
   "metadata": {
    "colab": {
     "base_uri": "https://localhost:8080/",
     "height": 170
    },
    "colab_type": "code",
    "executionInfo": {
     "elapsed": 1702,
     "status": "ok",
     "timestamp": 1598438648533,
     "user": {
      "displayName": "Uwakmfon Utuk",
      "photoUrl": "",
      "userId": "06629946359768655870"
     },
     "user_tz": -60
    },
    "id": "fBwMsJiOVY_7",
    "outputId": "4b27c9d9-16a4-47ac-f31d-46d75c7a33f0"
   },
   "outputs": [
    {
     "name": "stdout",
     "output_type": "stream",
     "text": [
      "              precision    recall  f1-score   support\n",
      "\n",
      "      stable     0.9410    0.8511    0.8938       712\n",
      "    unstable     0.9218    0.9705    0.9455      1288\n",
      "\n",
      "    accuracy                         0.9280      2000\n",
      "   macro avg     0.9314    0.9108    0.9197      2000\n",
      "weighted avg     0.9287    0.9280    0.9271      2000\n",
      "\n"
     ]
    }
   ],
   "source": [
    "from sklearn.ensemble import ExtraTreesClassifier\n",
    "\n",
    "tree = ExtraTreesClassifier(random_state = 1)\n",
    "\n",
    "tree.fit(ntrain_df, y_train)\n",
    "\n",
    "tree_pred = tree.predict(ntest_df)\n",
    "\n",
    "print(classification_report(y_test, tree_pred, digits = 4))"
   ]
  },
  {
   "cell_type": "code",
   "execution_count": 11,
   "metadata": {
    "colab": {
     "base_uri": "https://localhost:8080/",
     "height": 170
    },
    "colab_type": "code",
    "executionInfo": {
     "elapsed": 1789,
     "status": "ok",
     "timestamp": 1598438640894,
     "user": {
      "displayName": "Uwakmfon Utuk",
      "photoUrl": "",
      "userId": "06629946359768655870"
     },
     "user_tz": -60
    },
    "id": "fjpazNcAXXGV",
    "outputId": "e82f159a-feb1-479c-f746-50abc4eace39"
   },
   "outputs": [
    {
     "name": "stdout",
     "output_type": "stream",
     "text": [
      "              precision    recall  f1-score   support\n",
      "\n",
      "      stable     0.9410    0.8511    0.8938       712\n",
      "    unstable     0.9218    0.9705    0.9455      1288\n",
      "\n",
      "    accuracy                         0.9280      2000\n",
      "   macro avg     0.9314    0.9108    0.9197      2000\n",
      "weighted avg     0.9287    0.9280    0.9271      2000\n",
      "\n"
     ]
    }
   ],
   "source": [
    "from sklearn.ensemble import RandomForestClassifier\n",
    "\n",
    "forest = RandomForestClassifier(random_state = 1)\n",
    "\n",
    "tree.fit(ntrain_df, y_train)\n",
    "\n",
    "tree_pred = tree.predict(ntest_df)\n",
    "\n",
    "print(classification_report(y_test, tree_pred, digits = 4))"
   ]
  },
  {
   "cell_type": "code",
   "execution_count": 12,
   "metadata": {
    "colab": {
     "base_uri": "https://localhost:8080/",
     "height": 170
    },
    "colab_type": "code",
    "executionInfo": {
     "elapsed": 2124,
     "status": "ok",
     "timestamp": 1598438757026,
     "user": {
      "displayName": "Uwakmfon Utuk",
      "photoUrl": "",
      "userId": "06629946359768655870"
     },
     "user_tz": -60
    },
    "id": "ooRWpxZoVY_-",
    "outputId": "75999664-61df-47b6-c4e0-38f33219f222"
   },
   "outputs": [
    {
     "name": "stdout",
     "output_type": "stream",
     "text": [
      "              precision    recall  f1-score   support\n",
      "\n",
      "      stable     0.9206    0.8469    0.8822       712\n",
      "    unstable     0.9190    0.9596    0.9389      1288\n",
      "\n",
      "    accuracy                         0.9195      2000\n",
      "   macro avg     0.9198    0.9033    0.9105      2000\n",
      "weighted avg     0.9195    0.9195    0.9187      2000\n",
      "\n"
     ]
    }
   ],
   "source": [
    "from xgboost import XGBClassifier\n",
    "\n",
    "xgb = XGBClassifier(random_state = 1)\n",
    "\n",
    "xgb.fit(ntrain_df, y_train)\n",
    "\n",
    "xgb_pred = xgb.predict(ntest_df)\n",
    "\n",
    "print(classification_report(y_test, xgb_pred, digits = 4))"
   ]
  },
  {
   "cell_type": "code",
   "execution_count": 13,
   "metadata": {
    "colab": {
     "base_uri": "https://localhost:8080/",
     "height": 170
    },
    "colab_type": "code",
    "executionInfo": {
     "elapsed": 1564,
     "status": "ok",
     "timestamp": 1598438802971,
     "user": {
      "displayName": "Uwakmfon Utuk",
      "photoUrl": "",
      "userId": "06629946359768655870"
     },
     "user_tz": -60
    },
    "id": "Kh6VSUdAX8lv",
    "outputId": "65b45340-62c9-421a-ac56-31e2e306998d"
   },
   "outputs": [
    {
     "name": "stdout",
     "output_type": "stream",
     "text": [
      "              precision    recall  f1-score   support\n",
      "\n",
      "      stable     0.9297    0.8919    0.9104       712\n",
      "    unstable     0.9415    0.9627    0.9520      1288\n",
      "\n",
      "    accuracy                         0.9375      2000\n",
      "   macro avg     0.9356    0.9273    0.9312      2000\n",
      "weighted avg     0.9373    0.9375    0.9372      2000\n",
      "\n"
     ]
    }
   ],
   "source": [
    "from lightgbm import LGBMClassifier\n",
    "\n",
    "lbm = LGBMClassifier(random_state = 1)\n",
    "\n",
    "lbm.fit(ntrain_df, y_train)\n",
    "\n",
    "lbm_pred = lbm.predict(ntest_df)\n",
    "\n",
    "print(classification_report(y_test, lbm_pred, digits = 4))"
   ]
  },
  {
   "cell_type": "code",
   "execution_count": 14,
   "metadata": {
    "colab": {
     "base_uri": "https://localhost:8080/",
     "height": 187
    },
    "colab_type": "code",
    "executionInfo": {
     "elapsed": 117572,
     "status": "ok",
     "timestamp": 1598439214702,
     "user": {
      "displayName": "Uwakmfon Utuk",
      "photoUrl": "",
      "userId": "06629946359768655870"
     },
     "user_tz": -60
    },
    "id": "sbq652qPYH_L",
    "outputId": "b2845a1b-661c-4df2-bf62-7378d872d17e"
   },
   "outputs": [
    {
     "name": "stdout",
     "output_type": "stream",
     "text": [
      "              precision    recall  f1-score   support\n",
      "\n",
      "      stable     0.9211    0.8694    0.8945       712\n",
      "    unstable     0.9300    0.9589    0.9442      1288\n",
      "\n",
      "    accuracy                         0.9270      2000\n",
      "   macro avg     0.9256    0.9141    0.9193      2000\n",
      "weighted avg     0.9268    0.9270    0.9265      2000\n",
      "\n",
      "best parameters:  {'n_estimators': 1000, 'min_samples_split': 2, 'min_samples_leaf': 8, 'max_features': None}\n"
     ]
    }
   ],
   "source": [
    "from sklearn.model_selection import RandomizedSearchCV\n",
    "\n",
    "n_estimators = [50, 100, 300, 500, 1000]\n",
    "min_samples_split = [2, 3, 5, 7, 9]\n",
    "min_samples_leaf = [1, 2, 4, 6, 8]\n",
    "max_features = ['auto', 'sqrt', 'log2', None] \n",
    "\n",
    "hyperparameter_grid = {'n_estimators': n_estimators,\n",
    "                       'min_samples_leaf': min_samples_leaf,\n",
    "                       'min_samples_split': min_samples_split,\n",
    "                       'max_features': max_features}\n",
    "\n",
    "clf = RandomizedSearchCV(ExtraTreesClassifier(random_state=1), hyperparameter_grid, random_state = 1)\n",
    "clf.fit(ntrain_df, y_train)\n",
    "print(classification_report(y_test, clf.predict(ntest_df), digits = 4))\n",
    "print(\"best parameters: \", clf.best_params_)"
   ]
  },
  {
   "cell_type": "code",
   "execution_count": 16,
   "metadata": {},
   "outputs": [
    {
     "name": "stdout",
     "output_type": "stream",
     "text": [
      "              precision    recall  f1-score   support\n",
      "\n",
      "      stable     0.9410    0.8511    0.8938       712\n",
      "    unstable     0.9218    0.9705    0.9455      1288\n",
      "\n",
      "    accuracy                         0.9280      2000\n",
      "   macro avg     0.9314    0.9108    0.9197      2000\n",
      "weighted avg     0.9287    0.9280    0.9271      2000\n",
      "\n"
     ]
    }
   ],
   "source": [
    "tree = ExtraTreesClassifier(random_state = 1)\n",
    "\n",
    "n_estimators = [1000]\n",
    "min_samples_split = [2]\n",
    "min_samples_leaf = [8]\n",
    "max_features = [None] \n",
    "\n",
    "hyperparameter_grid = {'n_estimators': n_estimators,\n",
    "                       'min_samples_leaf': min_samples_leaf,\n",
    "                       'min_samples_split': min_samples_split,\n",
    "                       'max_features': max_features}\n",
    "tree.fit(ntrain_df, y_train)\n",
    "\n",
    "tree_pred = tree.predict(ntest_df)\n",
    "\n",
    "print(classification_report(y_test, tree_pred, digits = 4))"
   ]
  },
  {
   "cell_type": "code",
   "execution_count": null,
   "metadata": {},
   "outputs": [],
   "source": []
  }
 ],
 "metadata": {
  "colab": {
   "collapsed_sections": [],
   "name": "Hamoye Stage C.ipynb",
   "provenance": []
  },
  "kernelspec": {
   "display_name": "Python 3",
   "language": "python",
   "name": "python3"
  },
  "language_info": {
   "codemirror_mode": {
    "name": "ipython",
    "version": 3
   },
   "file_extension": ".py",
   "mimetype": "text/x-python",
   "name": "python",
   "nbconvert_exporter": "python",
   "pygments_lexer": "ipython3",
   "version": "3.7.6"
  }
 },
 "nbformat": 4,
 "nbformat_minor": 1
}
